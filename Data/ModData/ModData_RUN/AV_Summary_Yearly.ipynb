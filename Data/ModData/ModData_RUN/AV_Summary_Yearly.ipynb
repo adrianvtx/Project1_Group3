{
 "cells": [
  {
   "cell_type": "code",
   "execution_count": null,
   "metadata": {},
   "outputs": [],
   "source": []
  },
  {
   "cell_type": "code",
   "execution_count": 1,
   "metadata": {
    "ExecuteTime": {
     "end_time": "2019-07-30T18:32:54.890010Z",
     "start_time": "2019-07-30T18:32:49.918047Z"
    }
   },
   "outputs": [],
   "source": [
    "%matplotlib inline\n",
    "import matplotlib.pyplot as plt\n",
    "import pandas as pd\n",
    "import numpy as np\n",
    "import os\n",
    "newList = []\n",
    "filename = []\n",
    "\n",
    "path = os.path.join('.')\n",
    "\n",
    "with os.scandir(path) as it:\n",
    "    for entry in it:\n",
    "        if entry.name.endswith(\".csv\") and entry.is_file():\n",
    "            filename.append(entry.name)\n",
    "\n",
    "# filename = ['1992_mod.csv','1993_mod.csv','1994_mod.csv']\n",
    "\n",
    "for file in filename:\n",
    "    data = pd.read_csv(file,encoding='utf-8')\n",
    "    data.columns = ['day', 'number_of_strikes', 'center_point', 'Day', 'Year', 'Month','Latitude', 'Longitude', 'LatitudeR', 'LongitudeR', 'Strikes']\n",
    "    data.drop(columns = ['day','number_of_strikes','center_point',],axis=1,inplace=True)\n",
    "    newList.append(data)"
   ]
  },
  {
   "cell_type": "code",
   "execution_count": 2,
   "metadata": {
    "ExecuteTime": {
     "end_time": "2019-07-30T18:32:57.927226Z",
     "start_time": "2019-07-30T18:32:57.885176Z"
    }
   },
   "outputs": [
    {
     "data": {
      "text/plain": [
       "(4004046, 8)"
      ]
     },
     "execution_count": 2,
     "metadata": {},
     "output_type": "execute_result"
    }
   ],
   "source": [
    "df = pd.concat(newList)\n",
    "df.shape"
   ]
  },
  {
   "cell_type": "code",
   "execution_count": 3,
   "metadata": {
    "ExecuteTime": {
     "end_time": "2019-07-30T18:33:00.318961Z",
     "start_time": "2019-07-30T18:33:00.054963Z"
    }
   },
   "outputs": [],
   "source": [
    "modified=[]\n",
    "new=[]\n",
    "sum1=[]\n",
    "# z=0\n",
    "# for x in range((len(filename))-0):\n",
    "#     thisOne=df[z][x]\n",
    "# #     print(thisOne)\n",
    "modified=df.groupby('Year').sum()\n",
    "m1=modified['Strikes']\n",
    "byYear=pd.DataFrame(m1)\n",
    "#     byYear.reset_index()\n",
    "sum1.append(byYear)\n",
    "# m1\n",
    "# m2=pd.DataFrame(m1) # m2.columns=['SAJNPIDNPIANB']\n",
    "\n",
    "# data.groupby('Month').sum()\n",
    "\n",
    "# byMonth=pd.DataFrame().sum\n",
    "# byYear=pd.DataFrame(byMonth.sum())\n",
    "# modified.reset_indexmSum"
   ]
  },
  {
   "cell_type": "code",
   "execution_count": 4,
   "metadata": {
    "ExecuteTime": {
     "end_time": "2019-07-30T18:33:01.328596Z",
     "start_time": "2019-07-30T18:33:01.325595Z"
    }
   },
   "outputs": [],
   "source": [
    "df_test=pd.concat(sum1)"
   ]
  },
  {
   "cell_type": "code",
   "execution_count": 5,
   "metadata": {
    "ExecuteTime": {
     "end_time": "2019-07-30T18:33:01.889828Z",
     "start_time": "2019-07-30T18:33:01.880798Z"
    },
    "scrolled": true
   },
   "outputs": [
    {
     "data": {
      "text/html": [
       "<div>\n",
       "<style scoped>\n",
       "    .dataframe tbody tr th:only-of-type {\n",
       "        vertical-align: middle;\n",
       "    }\n",
       "\n",
       "    .dataframe tbody tr th {\n",
       "        vertical-align: top;\n",
       "    }\n",
       "\n",
       "    .dataframe thead th {\n",
       "        text-align: right;\n",
       "    }\n",
       "</style>\n",
       "<table border=\"1\" class=\"dataframe\">\n",
       "  <thead>\n",
       "    <tr style=\"text-align: right;\">\n",
       "      <th></th>\n",
       "      <th>Year</th>\n",
       "      <th>Strikes</th>\n",
       "    </tr>\n",
       "  </thead>\n",
       "  <tbody>\n",
       "    <tr>\n",
       "      <th>0</th>\n",
       "      <td>2018.0</td>\n",
       "      <td>178413007</td>\n",
       "    </tr>\n",
       "  </tbody>\n",
       "</table>\n",
       "</div>"
      ],
      "text/plain": [
       "     Year    Strikes\n",
       "0  2018.0  178413007"
      ]
     },
     "execution_count": 5,
     "metadata": {},
     "output_type": "execute_result"
    }
   ],
   "source": [
    "df_test.reset_index()"
   ]
  },
  {
   "cell_type": "code",
   "execution_count": 6,
   "metadata": {
    "ExecuteTime": {
     "end_time": "2019-07-30T18:33:25.603101Z",
     "start_time": "2019-07-30T18:33:25.596127Z"
    }
   },
   "outputs": [],
   "source": [
    "df_test.to_csv(\"Strikes_per_Year_2018.csv\" , index=True, header=True) \n"
   ]
  },
  {
   "cell_type": "code",
   "execution_count": 7,
   "metadata": {
    "ExecuteTime": {
     "end_time": "2019-07-27T20:26:38.076504Z",
     "start_time": "2019-07-27T20:26:38.070998Z"
    },
    "scrolled": false
   },
   "outputs": [
    {
     "data": {
      "text/plain": [
       "[          Strikes\n",
       " Year             \n",
       " 1987.0    7378836\n",
       " 1988.0    9150440\n",
       " 1989.0   14245186\n",
       " 1990.0   15839052\n",
       " 1991.0   16900934\n",
       " 1992.0   16371876\n",
       " 1993.0   24206929\n",
       " 1994.0   25094010\n",
       " 1995.0   22763540\n",
       " 1996.0   26190094\n",
       " 1997.0   26986915\n",
       " 1998.0   28802221\n",
       " 1999.0   27758681\n",
       " 2000.0   26276135\n",
       " 2001.0   25470095\n",
       " 2002.0   29916767\n",
       " 2003.0   39092327\n",
       " 2004.0   40023951\n",
       " 2005.0   38168699\n",
       " 2006.0   33292382\n",
       " 2007.0   30529064\n",
       " 2008.0   29790934\n",
       " 2009.0   30100585\n",
       " 2010.0   29068965\n",
       " 2011.0   31392058\n",
       " 2012.0   28807552\n",
       " 2013.0   27600898\n",
       " 2014.0   34919173\n",
       " 2015.0   37894191\n",
       " 2016.0   41582229\n",
       " 2017.0   35095195\n",
       " 2018.0  178413007\n",
       " 2019.0   14417544]"
      ]
     },
     "execution_count": 7,
     "metadata": {},
     "output_type": "execute_result"
    }
   ],
   "source": [
    "sum1"
   ]
  },
  {
   "cell_type": "code",
   "execution_count": null,
   "metadata": {},
   "outputs": [],
   "source": [
    "byMonth=pd.DataFrame(data.groupby('Month')).sum\n",
    "byYear=pd.DataFrame(byMonth.sum())"
   ]
  },
  {
   "cell_type": "code",
   "execution_count": null,
   "metadata": {},
   "outputs": [],
   "source": [
    "byMonth"
   ]
  },
  {
   "cell_type": "code",
   "execution_count": null,
   "metadata": {},
   "outputs": [],
   "source": [
    "byYear.reset_index()"
   ]
  },
  {
   "cell_type": "code",
   "execution_count": null,
   "metadata": {},
   "outputs": [],
   "source": [
    "new=modified['Strikes'].sum()"
   ]
  },
  {
   "cell_type": "code",
   "execution_count": 48,
   "metadata": {
    "ExecuteTime": {
     "end_time": "2019-07-27T19:00:50.287283Z",
     "start_time": "2019-07-27T19:00:50.279282Z"
    }
   },
   "outputs": [],
   "source": [
    "df_test.to_csv(\"Strikes_per_Year.csv\", 'a' index=False, header=False) \n"
   ]
  },
  {
   "cell_type": "code",
   "execution_count": null,
   "metadata": {},
   "outputs": [],
   "source": [
    "data.columns['Day']=data.columns['Year']\n",
    "# data['Year']=month.astype(float) data['Month']\n",
    "# data['Month']=day.astype(float)  data['Day']\n",
    "# data['Latitude']=latitude.astype(float)\n",
    "# data['Longitude']=longitude.astype(float)\n",
    "# data['LatitudeR']=latitude.astype(float).round(0)\n",
    "# data['LongitudeR']=longitude.astype(float).round(0)\n",
    "# data['Strikes']=strikes"
   ]
  },
  {
   "cell_type": "code",
   "execution_count": null,
   "metadata": {},
   "outputs": [],
   "source": [
    "data.to_csv(\"1989_Summary.csv\", index=False, header=True) \n",
    "data.head()\n",
    "# print (data.dtypes)"
   ]
  },
  {
   "cell_type": "code",
   "execution_count": null,
   "metadata": {},
   "outputs": [],
   "source": [
    "data = None"
   ]
  },
  {
   "cell_type": "code",
   "execution_count": null,
   "metadata": {},
   "outputs": [],
   "source": [
    "gDF=data.groupby('Month')\n",
    "gDF['Strikes'].sum()\n",
    "# data.head()\n"
   ]
  },
  {
   "cell_type": "code",
   "execution_count": null,
   "metadata": {},
   "outputs": [],
   "source": [
    "data.to_csv(\"1988_strikes_per_month.csv\", index=False, header=True) \n"
   ]
  },
  {
   "cell_type": "code",
   "execution_count": null,
   "metadata": {},
   "outputs": [],
   "source": [
    "grouped_df=data.groupby('LatitudeR')\n",
    "Lat=grouped_df['LatitudeR'].sum()/grouped_df['LatitudeR'].count()\n",
    "Gstrikes=grouped_df['Strikes'].sum()"
   ]
  },
  {
   "cell_type": "code",
   "execution_count": null,
   "metadata": {},
   "outputs": [],
   "source": [
    "\n",
    "plt.scatter(Lat, Gstrikes, marker=\"o\", facecolors=\"b\", label=\"Suburban\",edgecolors=\"black\", s=Gstrikes/1000, alpha=0.5)\n",
    "plt.title(\"Latitude vs. number_of_strikes\",fontsize=14)\n",
    "plt.xlabel(\"Latitude\",fontsize=12)\n",
    "plt.ylabel(\"number_of_strikes\",fontsize=12)\n",
    "plt.grid()\n",
    "plt.savefig(\"LatStrikes.png\")"
   ]
  },
  {
   "cell_type": "code",
   "execution_count": null,
   "metadata": {},
   "outputs": [],
   "source": [
    "grouped_df=data.groupby('LongitudeR')\n",
    "Lon=grouped_df['LongitudeR'].sum()/grouped_df['LongitudeR'].count()\n",
    "Gstrikes=grouped_df['Strikes'].sum()"
   ]
  },
  {
   "cell_type": "code",
   "execution_count": null,
   "metadata": {},
   "outputs": [],
   "source": [
    "plt.scatter(Lon, Gstrikes, marker=\"o\", facecolors=\"b\", label=\"Suburban\",edgecolors=\"black\", s=Gstrikes/1000, alpha=0.5)\n",
    "plt.title(\"longitude vs. number_of_strikes\",fontsize=14)\n",
    "plt.xlabel(\"longitude\",fontsize=12)\n",
    "plt.ylabel(\"number_of_strikes\",fontsize=12)\n",
    "plt.grid()\n",
    "plt.savefig(\"LonStrikes.png\")"
   ]
  },
  {
   "cell_type": "code",
   "execution_count": null,
   "metadata": {},
   "outputs": [],
   "source": [
    "grouped_df=data.groupby('Month')\n",
    "Month=grouped_df['Month'].sum()/grouped_df['Month'].count()\n",
    "Gstrikes=grouped_df['Strikes'].sum()"
   ]
  },
  {
   "cell_type": "code",
   "execution_count": null,
   "metadata": {},
   "outputs": [],
   "source": [
    "plt.scatter(Month, Gstrikes, marker=\"o\", facecolors=\"b\", label=\"Suburban\",edgecolors=\"black\", s=Gstrikes/1000, alpha=0.5)\n",
    "plt.title(\"Month vs. number_of_strikes\",fontsize=14)\n",
    "plt.xlabel(\"Month\",fontsize=12)\n",
    "plt.ylabel(\"number_of_strikes\",fontsize=12)\n",
    "plt.grid()\n",
    "plt.savefig(\"MonthStrikes.png\")"
   ]
  }
 ],
 "metadata": {
  "kernelspec": {
   "display_name": "Python 3",
   "language": "python",
   "name": "python3"
  },
  "language_info": {
   "codemirror_mode": {
    "name": "ipython",
    "version": 3
   },
   "file_extension": ".py",
   "mimetype": "text/x-python",
   "name": "python",
   "nbconvert_exporter": "python",
   "pygments_lexer": "ipython3",
   "version": "3.6.8"
  },
  "toc": {
   "base_numbering": 1,
   "nav_menu": {},
   "number_sections": true,
   "sideBar": true,
   "skip_h1_title": false,
   "title_cell": "Table of Contents",
   "title_sidebar": "Contents",
   "toc_cell": false,
   "toc_position": {},
   "toc_section_display": true,
   "toc_window_display": false
  },
  "varInspector": {
   "cols": {
    "lenName": 16,
    "lenType": 16,
    "lenVar": 40
   },
   "kernels_config": {
    "python": {
     "delete_cmd_postfix": "",
     "delete_cmd_prefix": "del ",
     "library": "var_list.py",
     "varRefreshCmd": "print(var_dic_list())"
    },
    "r": {
     "delete_cmd_postfix": ") ",
     "delete_cmd_prefix": "rm(",
     "library": "var_list.r",
     "varRefreshCmd": "cat(var_dic_list()) "
    }
   },
   "types_to_exclude": [
    "module",
    "function",
    "builtin_function_or_method",
    "instance",
    "_Feature"
   ],
   "window_display": false
  }
 },
 "nbformat": 4,
 "nbformat_minor": 2
}
