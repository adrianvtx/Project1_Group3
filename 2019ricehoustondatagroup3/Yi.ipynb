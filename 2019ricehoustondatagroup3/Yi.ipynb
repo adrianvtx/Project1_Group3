{
 "cells": [
  {
   "cell_type": "code",
   "execution_count": 1,
   "metadata": {},
   "outputs": [
    {
     "data": {
      "text/html": [
       "<div>\n",
       "<style scoped>\n",
       "    .dataframe tbody tr th:only-of-type {\n",
       "        vertical-align: middle;\n",
       "    }\n",
       "\n",
       "    .dataframe tbody tr th {\n",
       "        vertical-align: top;\n",
       "    }\n",
       "\n",
       "    .dataframe thead th {\n",
       "        text-align: right;\n",
       "    }\n",
       "</style>\n",
       "<table border=\"1\" class=\"dataframe\">\n",
       "  <thead>\n",
       "    <tr style=\"text-align: right;\">\n",
       "      <th></th>\n",
       "      <th>day</th>\n",
       "      <th>number_of_strikes</th>\n",
       "      <th>center_point</th>\n",
       "    </tr>\n",
       "  </thead>\n",
       "  <tbody>\n",
       "    <tr>\n",
       "      <th>0</th>\n",
       "      <td>1/1/1987</td>\n",
       "      <td>21</td>\n",
       "      <td>POINT(-80.7 26)</td>\n",
       "    </tr>\n",
       "    <tr>\n",
       "      <th>1</th>\n",
       "      <td>1/4/1987</td>\n",
       "      <td>23</td>\n",
       "      <td>POINT(-83.2 28.3)</td>\n",
       "    </tr>\n",
       "    <tr>\n",
       "      <th>2</th>\n",
       "      <td>1/5/1987</td>\n",
       "      <td>40</td>\n",
       "      <td>POINT(-78.9 31.3)</td>\n",
       "    </tr>\n",
       "    <tr>\n",
       "      <th>3</th>\n",
       "      <td>1/5/1987</td>\n",
       "      <td>20</td>\n",
       "      <td>POINT(-79.2 31.4)</td>\n",
       "    </tr>\n",
       "    <tr>\n",
       "      <th>4</th>\n",
       "      <td>1/5/1987</td>\n",
       "      <td>21</td>\n",
       "      <td>POINT(-80.1 31.4)</td>\n",
       "    </tr>\n",
       "  </tbody>\n",
       "</table>\n",
       "</div>"
      ],
      "text/plain": [
       "        day  number_of_strikes       center_point\n",
       "0  1/1/1987                 21    POINT(-80.7 26)\n",
       "1  1/4/1987                 23  POINT(-83.2 28.3)\n",
       "2  1/5/1987                 40  POINT(-78.9 31.3)\n",
       "3  1/5/1987                 20  POINT(-79.2 31.4)\n",
       "4  1/5/1987                 21  POINT(-80.1 31.4)"
      ]
     },
     "execution_count": 1,
     "metadata": {},
     "output_type": "execute_result"
    }
   ],
   "source": [
    "import pandas as pd\n",
    "data = pd.read_csv(\"1987.csv\")\n",
    "data.head()"
   ]
  },
  {
   "cell_type": "code",
   "execution_count": 2,
   "metadata": {},
   "outputs": [
    {
     "data": {
      "text/plain": [
       "day                  1048575\n",
       "number_of_strikes    1048575\n",
       "center_point         1048575\n",
       "dtype: int64"
      ]
     },
     "execution_count": 2,
     "metadata": {},
     "output_type": "execute_result"
    }
   ],
   "source": [
    "data.count()"
   ]
  },
  {
   "cell_type": "code",
   "execution_count": 5,
   "metadata": {},
   "outputs": [],
   "source": [
    "tmp1=data.center_point.str.replace(\"POINT\\(\",\"\")\n",
    "tmp2=tmp1.str.replace(\"\\)\",\"\")\n",
    "latitude=tmp2.str.split(\" \",expand=True)[0]\n",
    "longitude=tmp2.str.split(\" \",expand=True)[1]"
   ]
  },
  {
   "cell_type": "code",
   "execution_count": 6,
   "metadata": {},
   "outputs": [
    {
     "name": "stdout",
     "output_type": "stream",
     "text": [
      "0          -80.7\n",
      "1          -83.2\n",
      "2          -78.9\n",
      "3          -79.2\n",
      "4          -80.1\n",
      "5          -79.4\n",
      "6          -78.8\n",
      "7            -80\n",
      "8          -77.4\n",
      "9            -77\n",
      "10         -77.2\n",
      "11         -77.4\n",
      "12         -91.2\n",
      "13         -91.6\n",
      "14         -91.7\n",
      "15         -76.8\n",
      "16         -76.1\n",
      "17         -78.2\n",
      "18         -76.7\n",
      "19         -80.4\n",
      "20           -79\n",
      "21         -79.2\n",
      "22           -79\n",
      "23         -79.1\n",
      "24         -79.2\n",
      "25         -79.6\n",
      "26         -79.1\n",
      "27         -78.9\n",
      "28         -86.4\n",
      "29         -89.8\n",
      "           ...  \n",
      "1048545    -85.9\n",
      "1048546    -84.8\n",
      "1048547    -77.6\n",
      "1048548    -89.7\n",
      "1048549    -86.2\n",
      "1048550    -82.5\n",
      "1048551      -82\n",
      "1048552    -79.9\n",
      "1048553    -87.1\n",
      "1048554    -89.3\n",
      "1048555    -83.1\n",
      "1048556    -84.6\n",
      "1048557    -79.2\n",
      "1048558    -77.5\n",
      "1048559    -86.9\n",
      "1048560    -78.2\n",
      "1048561    -85.4\n",
      "1048562    -80.8\n",
      "1048563    -75.8\n",
      "1048564    -87.3\n",
      "1048565    -85.5\n",
      "1048566    -88.6\n",
      "1048567    -76.7\n",
      "1048568    -83.8\n",
      "1048569    -78.6\n",
      "1048570    -86.7\n",
      "1048571    -86.6\n",
      "1048572    -84.3\n",
      "1048573      -81\n",
      "1048574    -79.8\n",
      "Name: 0, Length: 1048575, dtype: object\n"
     ]
    }
   ],
   "source": [
    "print(latitude)"
   ]
  },
  {
   "cell_type": "code",
   "execution_count": null,
   "metadata": {},
   "outputs": [],
   "source": []
  }
 ],
 "metadata": {
  "kernelspec": {
   "display_name": "Python 3",
   "language": "python",
   "name": "python3"
  },
  "language_info": {
   "codemirror_mode": {
    "name": "ipython",
    "version": 3
   },
   "file_extension": ".py",
   "mimetype": "text/x-python",
   "name": "python",
   "nbconvert_exporter": "python",
   "pygments_lexer": "ipython3",
   "version": "3.7.3"
  }
 },
 "nbformat": 4,
 "nbformat_minor": 2
}
