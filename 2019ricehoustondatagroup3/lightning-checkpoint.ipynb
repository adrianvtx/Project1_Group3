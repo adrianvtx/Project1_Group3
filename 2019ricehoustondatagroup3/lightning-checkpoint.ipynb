{
 "cells": [
  {
   "cell_type": "code",
   "execution_count": 1,
   "metadata": {},
   "outputs": [
    {
     "data": {
      "text/html": [
       "<div>\n",
       "<style scoped>\n",
       "    .dataframe tbody tr th:only-of-type {\n",
       "        vertical-align: middle;\n",
       "    }\n",
       "\n",
       "    .dataframe tbody tr th {\n",
       "        vertical-align: top;\n",
       "    }\n",
       "\n",
       "    .dataframe thead th {\n",
       "        text-align: right;\n",
       "    }\n",
       "</style>\n",
       "<table border=\"1\" class=\"dataframe\">\n",
       "  <thead>\n",
       "    <tr style=\"text-align: right;\">\n",
       "      <th></th>\n",
       "      <th>day</th>\n",
       "      <th>number_of_strikes</th>\n",
       "      <th>center_point</th>\n",
       "    </tr>\n",
       "  </thead>\n",
       "  <tbody>\n",
       "    <tr>\n",
       "      <th>0</th>\n",
       "      <td>1/1/1987</td>\n",
       "      <td>21</td>\n",
       "      <td>POINT(-80.7 26)</td>\n",
       "    </tr>\n",
       "    <tr>\n",
       "      <th>1</th>\n",
       "      <td>1/4/1987</td>\n",
       "      <td>23</td>\n",
       "      <td>POINT(-83.2 28.3)</td>\n",
       "    </tr>\n",
       "    <tr>\n",
       "      <th>2</th>\n",
       "      <td>1/5/1987</td>\n",
       "      <td>40</td>\n",
       "      <td>POINT(-78.9 31.3)</td>\n",
       "    </tr>\n",
       "    <tr>\n",
       "      <th>3</th>\n",
       "      <td>1/5/1987</td>\n",
       "      <td>20</td>\n",
       "      <td>POINT(-79.2 31.4)</td>\n",
       "    </tr>\n",
       "    <tr>\n",
       "      <th>4</th>\n",
       "      <td>1/5/1987</td>\n",
       "      <td>21</td>\n",
       "      <td>POINT(-80.1 31.4)</td>\n",
       "    </tr>\n",
       "  </tbody>\n",
       "</table>\n",
       "</div>"
      ],
      "text/plain": [
       "        day  number_of_strikes       center_point\n",
       "0  1/1/1987                 21    POINT(-80.7 26)\n",
       "1  1/4/1987                 23  POINT(-83.2 28.3)\n",
       "2  1/5/1987                 40  POINT(-78.9 31.3)\n",
       "3  1/5/1987                 20  POINT(-79.2 31.4)\n",
       "4  1/5/1987                 21  POINT(-80.1 31.4)"
      ]
     },
     "execution_count": 1,
     "metadata": {},
     "output_type": "execute_result"
    }
   ],
   "source": [
    "import pandas as pd\n",
    "data = pd.read_csv(\"1987.csv\")\n",
    "data.head()"
   ]
  },
  {
   "cell_type": "code",
   "execution_count": 2,
   "metadata": {},
   "outputs": [
    {
     "data": {
      "text/plain": [
       "day                  1048575\n",
       "number_of_strikes    1048575\n",
       "center_point         1048575\n",
       "dtype: int64"
      ]
     },
     "execution_count": 2,
     "metadata": {},
     "output_type": "execute_result"
    }
   ],
   "source": [
    "data.count()"
   ]
  },
  {
   "cell_type": "code",
   "execution_count": 5,
   "metadata": {},
   "outputs": [],
   "source": [
    "tmp1=data.center_point.str.replace(\"POINT\\(\",\"\")\n",
    "tmp2=tmp1.str.replace(\"\\)\",\"\")\n",
    "latitude=tmp2.str.split(\" \",expand=True)[0]\n",
    "longitude=tmp2.str.split(\" \",expand=True)[1]"
   ]
  },
  {
   "cell_type": "code",
   "execution_count": null,
   "metadata": {},
   "outputs": [],
   "source": []
  }
 ],
 "metadata": {
  "kernelspec": {
   "display_name": "Python 3",
   "language": "python",
   "name": "python3"
  },
  "language_info": {
   "codemirror_mode": {
    "name": "ipython",
    "version": 3
   },
   "file_extension": ".py",
   "mimetype": "text/x-python",
   "name": "python",
   "nbconvert_exporter": "python",
   "pygments_lexer": "ipython3",
   "version": "3.7.3"
  }
 },
 "nbformat": 4,
 "nbformat_minor": 2
}
