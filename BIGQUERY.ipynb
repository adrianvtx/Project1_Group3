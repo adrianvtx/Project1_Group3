{
 "cells": [
  {
   "cell_type": "code",
   "execution_count": 1,
   "metadata": {
    "ExecuteTime": {
     "end_time": "2019-07-30T20:02:06.548370Z",
     "start_time": "2019-07-30T20:02:03.670843Z"
    },
    "slideshow": {
     "slide_type": "slide"
    }
   },
   "outputs": [],
   "source": [
    "%load_ext google.cloud.bigquery\n",
    "import os\n",
    "os.environ[\"GOOGLE_APPLICATION_CREDENTIALS\"]=\"D:\\D DOWNLOADs\\DOCUMENTATION\\GoogleCloudServices\\Analytics Bootcamp Rice U-e975bbd03fde.json\"\n"
   ]
  },
  {
   "cell_type": "code",
   "execution_count": 30,
   "metadata": {
    "ExecuteTime": {
     "end_time": "2019-07-27T03:07:39.811668Z",
     "start_time": "2019-07-27T03:03:13.668123Z"
    }
   },
   "outputs": [
    {
     "name": "stdout",
     "output_type": "stream",
     "text": [
      "Executing query with job ID: 4d1b4944-3384-40f8-ae9c-ffdb12449cf2\n",
      "Query executing: 16.11s\n",
      "Query complete after 18.40s\n"
     ]
    }
   ],
   "source": [
    "%%bigquery data --verbose\n",
    "SELECT * FROM `bigquery-public-data.noaa_lightning.lightning_2015`\n"
   ]
  },
  {
   "cell_type": "code",
   "execution_count": 31,
   "metadata": {
    "ExecuteTime": {
     "end_time": "2019-07-27T03:07:39.996668Z",
     "start_time": "2019-07-27T03:07:39.975169Z"
    }
   },
   "outputs": [
    {
     "data": {
      "text/html": [
       "<div>\n",
       "<style scoped>\n",
       "    .dataframe tbody tr th:only-of-type {\n",
       "        vertical-align: middle;\n",
       "    }\n",
       "\n",
       "    .dataframe tbody tr th {\n",
       "        vertical-align: top;\n",
       "    }\n",
       "\n",
       "    .dataframe thead th {\n",
       "        text-align: right;\n",
       "    }\n",
       "</style>\n",
       "<table border=\"1\" class=\"dataframe\">\n",
       "  <thead>\n",
       "    <tr style=\"text-align: right;\">\n",
       "      <th></th>\n",
       "      <th>day</th>\n",
       "      <th>number_of_strikes</th>\n",
       "      <th>center_point</th>\n",
       "    </tr>\n",
       "  </thead>\n",
       "  <tbody>\n",
       "    <tr>\n",
       "      <th>0</th>\n",
       "      <td>2015-01-02</td>\n",
       "      <td>24</td>\n",
       "      <td>POINT(-98.1 32.3)</td>\n",
       "    </tr>\n",
       "    <tr>\n",
       "      <th>1</th>\n",
       "      <td>2015-01-02</td>\n",
       "      <td>28</td>\n",
       "      <td>POINT(-106.1 25.2)</td>\n",
       "    </tr>\n",
       "    <tr>\n",
       "      <th>2</th>\n",
       "      <td>2015-01-02</td>\n",
       "      <td>25</td>\n",
       "      <td>POINT(-106.3 25.1)</td>\n",
       "    </tr>\n",
       "    <tr>\n",
       "      <th>3</th>\n",
       "      <td>2015-01-02</td>\n",
       "      <td>44</td>\n",
       "      <td>POINT(-106.1 25.1)</td>\n",
       "    </tr>\n",
       "    <tr>\n",
       "      <th>4</th>\n",
       "      <td>2015-01-02</td>\n",
       "      <td>25</td>\n",
       "      <td>POINT(-92.8 32.2)</td>\n",
       "    </tr>\n",
       "  </tbody>\n",
       "</table>\n",
       "</div>"
      ],
      "text/plain": [
       "          day  number_of_strikes        center_point\n",
       "0  2015-01-02                 24   POINT(-98.1 32.3)\n",
       "1  2015-01-02                 28  POINT(-106.1 25.2)\n",
       "2  2015-01-02                 25  POINT(-106.3 25.1)\n",
       "3  2015-01-02                 44  POINT(-106.1 25.1)\n",
       "4  2015-01-02                 25   POINT(-92.8 32.2)"
      ]
     },
     "execution_count": 31,
     "metadata": {},
     "output_type": "execute_result"
    }
   ],
   "source": [
    "data.head()"
   ]
  },
  {
   "cell_type": "code",
   "execution_count": 32,
   "metadata": {
    "ExecuteTime": {
     "end_time": "2019-07-27T03:08:02.812435Z",
     "start_time": "2019-07-27T03:07:40.166416Z"
    }
   },
   "outputs": [],
   "source": [
    "import csv\n",
    "\n",
    "export_csv=data.to_csv(\"2015_data.csv\", index=False, header=True)"
   ]
  },
  {
   "cell_type": "code",
   "execution_count": 30,
   "metadata": {
    "ExecuteTime": {
     "end_time": "2019-07-25T22:31:14.062079Z",
     "start_time": "2019-07-25T22:31:14.052138Z"
    }
   },
   "outputs": [
    {
     "data": {
      "text/plain": [
       "<bound method DataFrame.info of                  day  number_of_strikes        center_point\n",
       "0         2019-07-03                  1   POINT(-87.2 32.4)\n",
       "1         2019-07-03                  1   POINT(-82.7 32.4)\n",
       "2         2019-07-03                  1   POINT(-89.8 32.5)\n",
       "3         2019-07-03                  1     POINT(-89 32.5)\n",
       "4         2019-07-03                  1   POINT(-84.7 32.5)\n",
       "5         2019-07-03                  1   POINT(-99.8 32.7)\n",
       "6         2019-07-03                  1   POINT(-95.7 32.7)\n",
       "7         2019-07-03                  1   POINT(-93.7 32.7)\n",
       "8         2019-07-03                  1   POINT(-79.7 32.8)\n",
       "9         2019-07-03                  1   POINT(-91.6 32.9)\n",
       "10        2019-07-03                  1     POINT(-93.4 33)\n",
       "11        2019-07-03                  1  POINT(-100.5 33.1)\n",
       "12        2019-07-03                  1   POINT(-88.6 33.2)\n",
       "13        2019-07-03                  1  POINT(-105.5 33.3)\n",
       "14        2019-07-03                  1  POINT(-104.5 33.6)\n",
       "15        2019-07-03                  1   POINT(-87.4 33.6)\n",
       "16        2019-07-03                  1   POINT(-80.1 33.6)\n",
       "17        2019-07-03                  1     POINT(-77.3 34)\n",
       "18        2019-07-03                  1   POINT(-77.2 34.1)\n",
       "19        2019-07-03                  1   POINT(-78.9 34.2)\n",
       "20        2019-07-03                  1  POINT(-104.8 34.3)\n",
       "21        2019-07-03                  1   POINT(-76.9 34.3)\n",
       "22        2019-07-03                  1   POINT(-89.7 34.4)\n",
       "23        2019-07-03                  1   POINT(-86.9 34.4)\n",
       "24        2019-07-03                  1   POINT(-82.5 34.4)\n",
       "25        2019-07-03                  1   POINT(-98.2 34.5)\n",
       "26        2019-07-03                  1   POINT(-78.6 34.6)\n",
       "27        2019-07-03                  1   POINT(-83.1 34.8)\n",
       "28        2019-07-03                  1   POINT(-78.7 34.9)\n",
       "29        2019-07-03                  1  POINT(-100.3 35.1)\n",
       "...              ...                ...                 ...\n",
       "94501744  2014-04-28                  1     POINT(-87.9 39)\n",
       "94501745  2014-04-28                  1     POINT(-85 35.8)\n",
       "94501746  2014-04-28                  1   POINT(-89.2 40.3)\n",
       "94501747  2014-04-28                  1   POINT(-84.1 40.3)\n",
       "94501748  2014-04-28                  1     POINT(-96 44.4)\n",
       "94501749  2014-04-28                  1   POINT(-90.1 31.4)\n",
       "94501750  2014-04-28                  1   POINT(-89.6 38.7)\n",
       "94501751  2014-04-28                  1     POINT(-97 44.8)\n",
       "94501752  2014-04-28                  1   POINT(-94.2 43.7)\n",
       "94501753  2014-04-28                  1    POINT(-116.9 48)\n",
       "94501754  2014-04-28                  1   POINT(-94.7 42.6)\n",
       "94501755  2014-04-28                  1    POINT(-116.8 47)\n",
       "94501756  2014-04-28                  1   POINT(-82.5 40.8)\n",
       "94501757  2014-04-29                  1   POINT(-78.4 23.9)\n",
       "94501758  2014-04-29                  1   POINT(-82.2 20.8)\n",
       "94501759  2014-04-29                  1   POINT(-82.5 30.8)\n",
       "94501760  2014-04-29                  1   POINT(-87.7 42.7)\n",
       "94501761  2014-04-29                  1   POINT(-82.2 39.1)\n",
       "94501762  2014-04-29                  1   POINT(-81.8 36.3)\n",
       "94501763  2014-04-29                  1   POINT(-85.9 42.5)\n",
       "94501764  2014-04-29                  1     POINT(-83.9 37)\n",
       "94501765  2014-04-29                  1   POINT(-85.8 43.7)\n",
       "94501766  2014-04-29                  1   POINT(-83.6 29.8)\n",
       "94501767  2014-04-29                  1   POINT(-86.7 35.4)\n",
       "94501768  2014-04-29                  1   POINT(-84.3 34.3)\n",
       "94501769  2014-04-29                  1   POINT(-80.8 27.1)\n",
       "94501770  2014-04-29                  1   POINT(-83.7 41.3)\n",
       "94501771  2014-04-29                  1     POINT(-80.8 36)\n",
       "94501772  2014-04-29                  1   POINT(-88.9 39.3)\n",
       "94501773  2014-04-29                  1     POINT(-78 36.6)\n",
       "\n",
       "[94501774 rows x 3 columns]>"
      ]
     },
     "execution_count": 30,
     "metadata": {},
     "output_type": "execute_result"
    }
   ],
   "source": [
    "lightning_data_complete.info"
   ]
  },
  {
   "cell_type": "code",
   "execution_count": 25,
   "metadata": {
    "ExecuteTime": {
     "end_time": "2019-07-25T22:29:05.642079Z",
     "start_time": "2019-07-25T22:29:05.635098Z"
    }
   },
   "outputs": [
    {
     "data": {
      "text/html": [
       "<div>\n",
       "<style scoped>\n",
       "    .dataframe tbody tr th:only-of-type {\n",
       "        vertical-align: middle;\n",
       "    }\n",
       "\n",
       "    .dataframe tbody tr th {\n",
       "        vertical-align: top;\n",
       "    }\n",
       "\n",
       "    .dataframe thead th {\n",
       "        text-align: right;\n",
       "    }\n",
       "</style>\n",
       "<table border=\"1\" class=\"dataframe\">\n",
       "  <thead>\n",
       "    <tr style=\"text-align: right;\">\n",
       "      <th></th>\n",
       "      <th>day</th>\n",
       "      <th>number_of_strikes</th>\n",
       "      <th>center_point</th>\n",
       "    </tr>\n",
       "  </thead>\n",
       "  <tbody>\n",
       "    <tr>\n",
       "      <th>94501769</th>\n",
       "      <td>2014-04-29</td>\n",
       "      <td>1</td>\n",
       "      <td>POINT(-80.8 27.1)</td>\n",
       "    </tr>\n",
       "    <tr>\n",
       "      <th>94501770</th>\n",
       "      <td>2014-04-29</td>\n",
       "      <td>1</td>\n",
       "      <td>POINT(-83.7 41.3)</td>\n",
       "    </tr>\n",
       "    <tr>\n",
       "      <th>94501771</th>\n",
       "      <td>2014-04-29</td>\n",
       "      <td>1</td>\n",
       "      <td>POINT(-80.8 36)</td>\n",
       "    </tr>\n",
       "    <tr>\n",
       "      <th>94501772</th>\n",
       "      <td>2014-04-29</td>\n",
       "      <td>1</td>\n",
       "      <td>POINT(-88.9 39.3)</td>\n",
       "    </tr>\n",
       "    <tr>\n",
       "      <th>94501773</th>\n",
       "      <td>2014-04-29</td>\n",
       "      <td>1</td>\n",
       "      <td>POINT(-78 36.6)</td>\n",
       "    </tr>\n",
       "  </tbody>\n",
       "</table>\n",
       "</div>"
      ],
      "text/plain": [
       "                 day  number_of_strikes       center_point\n",
       "94501769  2014-04-29                  1  POINT(-80.8 27.1)\n",
       "94501770  2014-04-29                  1  POINT(-83.7 41.3)\n",
       "94501771  2014-04-29                  1    POINT(-80.8 36)\n",
       "94501772  2014-04-29                  1  POINT(-88.9 39.3)\n",
       "94501773  2014-04-29                  1    POINT(-78 36.6)"
      ]
     },
     "execution_count": 25,
     "metadata": {},
     "output_type": "execute_result"
    }
   ],
   "source": [
    "lightning_data_complete.tail()"
   ]
  },
  {
   "cell_type": "code",
   "execution_count": null,
   "metadata": {},
   "outputs": [],
   "source": []
  }
 ],
 "metadata": {
  "celltoolbar": "Slideshow",
  "kernelspec": {
   "display_name": "Python 3",
   "language": "python",
   "name": "python3"
  },
  "language_info": {
   "codemirror_mode": {
    "name": "ipython",
    "version": 3
   },
   "file_extension": ".py",
   "mimetype": "text/x-python",
   "name": "python",
   "nbconvert_exporter": "python",
   "pygments_lexer": "ipython3",
   "version": "3.6.8"
  },
  "toc": {
   "base_numbering": 1,
   "nav_menu": {},
   "number_sections": true,
   "sideBar": true,
   "skip_h1_title": false,
   "title_cell": "Table of Contents",
   "title_sidebar": "Contents",
   "toc_cell": false,
   "toc_position": {
    "height": "476.727px",
    "left": "1044px",
    "top": "323.364px",
    "width": "212px"
   },
   "toc_section_display": true,
   "toc_window_display": true
  },
  "varInspector": {
   "cols": {
    "lenName": 16,
    "lenType": 16,
    "lenVar": 40
   },
   "kernels_config": {
    "python": {
     "delete_cmd_postfix": "",
     "delete_cmd_prefix": "del ",
     "library": "var_list.py",
     "varRefreshCmd": "print(var_dic_list())"
    },
    "r": {
     "delete_cmd_postfix": ") ",
     "delete_cmd_prefix": "rm(",
     "library": "var_list.r",
     "varRefreshCmd": "cat(var_dic_list()) "
    }
   },
   "types_to_exclude": [
    "module",
    "function",
    "builtin_function_or_method",
    "instance",
    "_Feature"
   ],
   "window_display": false
  }
 },
 "nbformat": 4,
 "nbformat_minor": 2
}
