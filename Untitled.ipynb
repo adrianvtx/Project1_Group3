{
 "cells": [
  {
   "cell_type": "code",
   "execution_count": null,
   "metadata": {},
   "outputs": [],
   "source": [
    "%matplotlib inline\n",
    "import matplotlib.pyplot as plt\n",
    "import pandas as pd\n",
    "import numpy as np\n",
    "import os\n",
    "newList = []\n",
    "filename = []\n",
    "\n",
    "path = os.path.join('./ModData')\n",
    "\n",
    "with os.scandir(path) as it:\n",
    "    for entry in it:\n",
    "#         if entry.name.endswith(\".csv\") and entry.is_file():\n",
    "        filename.append(entry.name)\n",
    "\n",
    "# filename = ['1992_mod.csv','1993_mod.csv','1994_mod.csv']\n",
    "\n",
    "for file in filename:\n",
    "    data = pd.read_csv(file,encoding='utf-8')\n",
    "#     data.columns = ['day', 'number_of_strikes', 'center_point', 'Day', 'Year', 'Month','Latitude', 'Longitude', 'LatitudeR', 'LongitudeR', 'Strikes']\n",
    "#     data.drop(columns = ['day','number_of_strikes','center_point',],axis=1,inplace=True)\n",
    "    newList.appheaddata)\n",
    "    print(data.head())\n",
    "    print(data.info())\n",
    "    print(data.dataescribe())\n",
    "        "
   ]
  }
 ],
 "metadata": {
  "kernelspec": {
   "display_name": "Python 3",
   "language": "python",
   "name": "python3"
  },
  "language_info": {
   "codemirror_mode": {
    "name": "ipython",
    "version": 3
   },
   "file_extension": ".py",
   "mimetype": "text/x-python",
   "name": "python",
   "nbconvert_exporter": "python",
   "pygments_lexer": "ipython3",
   "version": "3.6.8"
  },
  "toc": {
   "base_numbering": 1,
   "nav_menu": {},
   "number_sections": true,
   "sideBar": true,
   "skip_h1_title": false,
   "title_cell": "Table of Contents",
   "title_sidebar": "Contents",
   "toc_cell": false,
   "toc_position": {},
   "toc_section_display": true,
   "toc_window_display": true
  },
  "varInspector": {
   "cols": {
    "lenName": 16,
    "lenType": 16,
    "lenVar": 40
   },
   "kernels_config": {
    "python": {
     "delete_cmd_postfix": "",
     "delete_cmd_prefix": "del ",
     "library": "var_list.py",
     "varRefreshCmd": "print(var_dic_list())"
    },
    "r": {
     "delete_cmd_postfix": ") ",
     "delete_cmd_prefix": "rm(",
     "library": "var_list.r",
     "varRefreshCmd": "cat(var_dic_list()) "
    }
   },
   "types_to_exclude": [
    "module",
    "function",
    "builtin_function_or_method",
    "instance",
    "_Feature"
   ],
   "window_display": false
  }
 },
 "nbformat": 4,
 "nbformat_minor": 2
}
